{
  "nbformat": 4,
  "nbformat_minor": 0,
  "metadata": {
    "colab": {
      "name": "Pyhon_1.ipynb",
      "provenance": [],
      "collapsed_sections": [],
      "authorship_tag": "ABX9TyM8aWXhoSMgVLkmpOa/0OgA",
      "include_colab_link": true
    },
    "kernelspec": {
      "name": "python3",
      "display_name": "Python 3"
    },
    "language_info": {
      "name": "python"
    }
  },
  "cells": [
    {
      "cell_type": "markdown",
      "metadata": {
        "id": "view-in-github",
        "colab_type": "text"
      },
      "source": [
        "<a href=\"https://colab.research.google.com/github/dnjffbs524/Computational-Thinking-and-Coding/blob/main/Pyhon_1.ipynb\" target=\"_parent\"><img src=\"https://colab.research.google.com/assets/colab-badge.svg\" alt=\"Open In Colab\"/></a>"
      ]
    },
    {
      "cell_type": "code",
      "execution_count": 2,
      "metadata": {
        "colab": {
          "base_uri": "https://localhost:8080/"
        },
        "id": "OERA3Eni25kk",
        "outputId": "a48674f3-d12b-48c8-ca30-be12a134c44a"
      },
      "outputs": [
        {
          "output_type": "stream",
          "name": "stdout",
          "text": [
            "Hello World\n"
          ]
        }
      ],
      "source": [
        "print(\"Hello World\")"
      ]
    },
    {
      "cell_type": "code",
      "source": [
        "print('Hello World')"
      ],
      "metadata": {
        "colab": {
          "base_uri": "https://localhost:8080/"
        },
        "id": "aorZcJ8jHT0d",
        "outputId": "d6cecd2e-a550-413b-8272-e6d5dcc5d3ee"
      },
      "execution_count": 3,
      "outputs": [
        {
          "output_type": "stream",
          "name": "stdout",
          "text": [
            "Hello World\n"
          ]
        }
      ]
    },
    {
      "cell_type": "code",
      "source": [
        "print(1+2)"
      ],
      "metadata": {
        "colab": {
          "base_uri": "https://localhost:8080/"
        },
        "id": "CeIQ7Kn3HhnG",
        "outputId": "27140a78-029f-4d86-8b2a-090f54560308"
      },
      "execution_count": 4,
      "outputs": [
        {
          "output_type": "stream",
          "name": "stdout",
          "text": [
            "3\n"
          ]
        }
      ]
    },
    {
      "cell_type": "code",
      "source": [
        "print(2*3)"
      ],
      "metadata": {
        "colab": {
          "base_uri": "https://localhost:8080/"
        },
        "id": "e1Q0hcHuHm3v",
        "outputId": "86b8b885-0440-44ee-dec4-5eb0448944eb"
      },
      "execution_count": 5,
      "outputs": [
        {
          "output_type": "stream",
          "name": "stdout",
          "text": [
            "6\n"
          ]
        }
      ]
    },
    {
      "cell_type": "code",
      "source": [
        "print(True)"
      ],
      "metadata": {
        "colab": {
          "base_uri": "https://localhost:8080/"
        },
        "id": "lmXXShqsIKSW",
        "outputId": "7c50fa7b-b37a-4ef8-e23b-4bc19cda96eb"
      },
      "execution_count": 7,
      "outputs": [
        {
          "output_type": "stream",
          "name": "stdout",
          "text": [
            "True\n"
          ]
        }
      ]
    },
    {
      "cell_type": "code",
      "source": [
        "print(False)"
      ],
      "metadata": {
        "colab": {
          "base_uri": "https://localhost:8080/"
        },
        "id": "8-xL08yhISyN",
        "outputId": "1940a978-21c1-4463-a69b-8212b07b02f7"
      },
      "execution_count": 8,
      "outputs": [
        {
          "output_type": "stream",
          "name": "stdout",
          "text": [
            "False\n"
          ]
        }
      ]
    },
    {
      "cell_type": "code",
      "source": [
        "a = 3; b = 4; c = a + b; print(c); print(a); print(b)"
      ],
      "metadata": {
        "colab": {
          "base_uri": "https://localhost:8080/"
        },
        "id": "o75PZXltIVh0",
        "outputId": "2fdfa104-4c55-4a8e-9523-2b4706817313"
      },
      "execution_count": 10,
      "outputs": [
        {
          "output_type": "stream",
          "name": "stdout",
          "text": [
            "7\n",
            "3\n",
            "4\n"
          ]
        }
      ]
    },
    {
      "cell_type": "code",
      "source": [
        "a = \"안녕하세요.\" ;\n",
        "b = \"반갑습니다.\" ;\n",
        "c = a + b ;\n",
        "print(c)"
      ],
      "metadata": {
        "colab": {
          "base_uri": "https://localhost:8080/"
        },
        "id": "RltNic_eJC8E",
        "outputId": "48162a2e-b4af-469d-8196-e4ea1d75dbf3"
      },
      "execution_count": 11,
      "outputs": [
        {
          "output_type": "stream",
          "name": "stdout",
          "text": [
            "안녕하세요.반갑습니다.\n"
          ]
        }
      ]
    },
    {
      "cell_type": "code",
      "source": [
        "a = \"안녕하세요.\";\n",
        "b = a * 10;\n",
        "print(b)"
      ],
      "metadata": {
        "colab": {
          "base_uri": "https://localhost:8080/"
        },
        "id": "XePSmAx6JPnb",
        "outputId": "1f395341-2e43-487c-ecc1-21d0200cde71"
      },
      "execution_count": 14,
      "outputs": [
        {
          "output_type": "stream",
          "name": "stdout",
          "text": [
            "안녕하세요.안녕하세요.안녕하세요.안녕하세요.안녕하세요.안녕하세요.안녕하세요.안녕하세요.안녕하세요.안녕하세요.\n"
          ]
        }
      ]
    },
    {
      "cell_type": "code",
      "source": [
        "print(\"###############\")\n",
        "print(\"#\" * 15)"
      ],
      "metadata": {
        "colab": {
          "base_uri": "https://localhost:8080/"
        },
        "id": "gjyEmrQlJi58",
        "outputId": "6cd93bd1-3149-4dd9-d24d-875943cb14b9"
      },
      "execution_count": 15,
      "outputs": [
        {
          "output_type": "stream",
          "name": "stdout",
          "text": [
            "###############\n",
            "###############\n"
          ]
        }
      ]
    },
    {
      "cell_type": "markdown",
      "source": [
        "아버지와 어머니 그리고 삼촌에게 감사한마음을 전하고 싶습니다. 아버지에게는 10만원, 어머니에게는 15만원 삼촌에게는 \"감사합니다.\"변수 : _Father,_Mother,_Uncle"
      ],
      "metadata": {
        "id": "enGRO4VtOzwv"
      }
    },
    {
      "cell_type": "code",
      "source": [
        "_Father = \"100,000\"\n",
        "_Mother = \"150,000\"\n",
        "_Uncle = \"감사합니다.\"\n",
        "Thanks = _Father, _Mother, _Uncle\n",
        "print(\"아버지 =\", _Father,\"원\")\n",
        "print(\"어머니 =\", _Mother,\"원\")\n",
        "print(\"삼촌 =\", _Uncle)"
      ],
      "metadata": {
        "colab": {
          "base_uri": "https://localhost:8080/"
        },
        "id": "LPA1Umf2JwZk",
        "outputId": "4742ef52-53d9-488f-8070-214ef12a861b"
      },
      "execution_count": 20,
      "outputs": [
        {
          "output_type": "stream",
          "name": "stdout",
          "text": [
            "아버지 = 100,000 원\n",
            "어머니 = 150,000 원\n",
            "삼촌 = 감사합니다.\n"
          ]
        }
      ]
    },
    {
      "cell_type": "markdown",
      "source": [
        "변수의 규칙 : 문자 또는 _로 시작(Father,father,_father),문자,숫자_구성(Father69,father55,fahter_56),공백 절대안된다. 안쓰는 것이 좋다. 특수 문자 절대안된다"
      ],
      "metadata": {
        "id": "2aA2c6MPPCWB"
      }
    },
    {
      "cell_type": "markdown",
      "source": [
        "FATHER,father,MOTHER,mother,_Father,_father,Keyword(True,False,for,while,if,continue,break,class...)"
      ],
      "metadata": {
        "id": "nD2WqWgYPY81"
      }
    },
    {
      "cell_type": "markdown",
      "source": [
        "숫자자료형 = 숫자,문자자료형 = 모든 문자들.."
      ],
      "metadata": {
        "id": "ppST-66fPxVh"
      }
    },
    {
      "cell_type": "code",
      "source": [
        "a = 2\n",
        "b = \"2\"\n",
        "c = a + int(b)\n",
        "print (c)"
      ],
      "metadata": {
        "colab": {
          "base_uri": "https://localhost:8080/"
        },
        "id": "82GT8hiNLKLo",
        "outputId": "36757384-dc8c-42a3-ca01-8d1579ab216a"
      },
      "execution_count": 23,
      "outputs": [
        {
          "output_type": "stream",
          "name": "stdout",
          "text": [
            "4\n"
          ]
        }
      ]
    },
    {
      "cell_type": "markdown",
      "source": [
        "형변환 : 정수형을 변환할때 int(), 실수형으로 변환하고자 할때float(),\n",
        "문자자료형으로 변환하고자할때 str(),int(float(\"2.5\"))"
      ],
      "metadata": {
        "id": "5OeUzgWkP3bk"
      }
    },
    {
      "cell_type": "markdown",
      "source": [
        "산술연산자 : + 더하기(print(4+3)), - 빼기 (print(2-1)) + 곱하기(print(5*4)) /\n",
        "나누기(print(4/2)), % 나머지 print(5 % 2), // 몫 print(5 // 2), ** 거듭제곱\n",
        "print(4**2)"
      ],
      "metadata": {
        "id": "vIAFtuskQNlv"
      }
    }
  ]
}