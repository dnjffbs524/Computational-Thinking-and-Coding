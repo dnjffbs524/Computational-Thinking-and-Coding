{
  "nbformat": 4,
  "nbformat_minor": 0,
  "metadata": {
    "colab": {
      "name": "Untitled1.ipynb",
      "provenance": [],
      "authorship_tag": "ABX9TyMHAFhB6KXhTR9ozK41AeeN",
      "include_colab_link": true
    },
    "kernelspec": {
      "name": "python3",
      "display_name": "Python 3"
    },
    "language_info": {
      "name": "python"
    }
  },
  "cells": [
    {
      "cell_type": "markdown",
      "metadata": {
        "id": "view-in-github",
        "colab_type": "text"
      },
      "source": [
        "<a href=\"https://colab.research.google.com/github/dnjffbs524/Computational-Thinking-and-Coding/blob/main/Untitled1.ipynb\" target=\"_parent\"><img src=\"https://colab.research.google.com/assets/colab-badge.svg\" alt=\"Open In Colab\"/></a>"
      ]
    },
    {
      "cell_type": "code",
      "execution_count": 2,
      "metadata": {
        "colab": {
          "base_uri": "https://localhost:8080/"
        },
        "id": "Mwackt2YlZE2",
        "outputId": "2473bbed-c11e-4aa3-f0e5-fb5ab014709b"
      },
      "outputs": [
        {
          "output_type": "stream",
          "name": "stdout",
          "text": [
            "3개의 정수값을 입력하시오\n",
            "n1의 정수값을 입력: 1\n",
            "n1의 정수값을 입력: 2\n",
            "n1의 정수값을 입력: 3\n",
            "2.0\n"
          ]
        }
      ],
      "source": [
        "print(\"3개의 정수값을 입력하시오\")\n",
        "n1 = int(input(\"n1의 정수값을 입력: \")) \n",
        "n2 = int(input(\"n1의 정수값을 입력: \"))  \n",
        "n3 = int(input(\"n1의 정수값을 입력: \")) \n",
        "total = n1 + n2 + n3;\n",
        "average = total /3 ;\n",
        "print(average)\n"
      ]
    },
    {
      "cell_type": "code",
      "source": [
        "import math  \n",
        "#from math import sqrt \n",
        "print(\"'a, b, c' 3개의 값을 입력하시오\")\n",
        "a = int(input(\"Enter the a: \"))  \n",
        "b = int(input(\"Enter the b: \"))  \n",
        "c = int(input(\"Enter the c: \"))  \n",
        "d = math.sqrt(b*b) - (4*a*c); \n",
        "#d = sqrt(b*b) - (4*a*c); \n",
        "x1 = (-b+d) / (2 * a);\n",
        "x2 = (-b-d) / (2 * a);\n",
        "print(x1, x2)\n"
      ],
      "metadata": {
        "colab": {
          "base_uri": "https://localhost:8080/"
        },
        "id": "r9b2XUTD2tDN",
        "outputId": "39c04b07-ea75-48f8-dac9-ed3a095c4d45"
      },
      "execution_count": 3,
      "outputs": [
        {
          "output_type": "stream",
          "name": "stdout",
          "text": [
            "'a, b, c' 3개의 값을 입력하시오\n",
            "Enter the a: 1\n",
            "Enter the b: 2\n",
            "Enter the c: 3\n",
            "-6.0 4.0\n"
          ]
        }
      ]
    }
  ]
}