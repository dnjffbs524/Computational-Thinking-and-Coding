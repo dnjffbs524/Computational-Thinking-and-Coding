{
  "nbformat": 4,
  "nbformat_minor": 0,
  "metadata": {
    "colab": {
      "name": "15차시 코딩 따라하기.ipynb",
      "provenance": [],
      "collapsed_sections": [],
      "authorship_tag": "ABX9TyNHRgDz8xCO8O4NeZ3r0M1S",
      "include_colab_link": true
    },
    "kernelspec": {
      "name": "python3",
      "display_name": "Python 3"
    },
    "language_info": {
      "name": "python"
    }
  },
  "cells": [
    {
      "cell_type": "markdown",
      "metadata": {
        "id": "view-in-github",
        "colab_type": "text"
      },
      "source": [
        "<a href=\"https://colab.research.google.com/github/dnjffbs524/Computational-Thinking-and-Coding/blob/main/15%EC%B0%A8%EC%8B%9C_%EC%BD%94%EB%94%A9_%EB%94%B0%EB%9D%BC%ED%95%98%EA%B8%B0.ipynb\" target=\"_parent\"><img src=\"https://colab.research.google.com/assets/colab-badge.svg\" alt=\"Open In Colab\"/></a>"
      ]
    },
    {
      "cell_type": "markdown",
      "source": [
        "제 6장 반복문의연습문제를 시작해보겠습니다.\n",
        "1. 2부터 100사이의 모든 짝수를 출력하는 반복 루프를 작성해보자.\n",
        "x%2한 결과가 0이면 x는 짝수이다."
      ],
      "metadata": {
        "id": "EVmwtg-Ebkki"
      }
    },
    {
      "cell_type": "code",
      "execution_count": 1,
      "metadata": {
        "colab": {
          "base_uri": "https://localhost:8080/"
        },
        "id": "Zi6MWKo7bIyz",
        "outputId": "11dbc567-6888-4321-f477-30bd69b8b87d"
      },
      "outputs": [
        {
          "output_type": "stream",
          "name": "stdout",
          "text": [
            "2  4  6  8  10  12  14  16  18  20  22  24  26  28  30  32  34  36  38  40  42  44  46  48  50  52  54  56  58  60  62  64  66  68  70  72  74  76  78  80  82  84  86  88  90  92  94  96  98  100  "
          ]
        }
      ],
      "source": [
        "for i in range(2, 101):\n",
        "     if i%2 == 0 :\n",
        "        print(i, end = \"  \")"
      ]
    },
    {
      "cell_type": "markdown",
      "source": [
        "2. 복리이자율 7%로 1000만원을 저축했을 경우 2000만원이 되는데 몇 년이 걸리는지 계산하기 위해 아래의 코드를 작성하였다. 잘못된 점은 없는지 체크하라"
      ],
      "metadata": {
        "id": "7K-4XwVnb0b-"
      }
    },
    {
      "cell_type": "code",
      "source": [
        "year = 0\n",
        "balance = 1000\n",
        "\n",
        "while balance <= 2000 :\n",
        "  year = year + 1\n",
        "  interest = balance * 0.07\n",
        "  balance = balance + interest\n",
        "print(year, \"년이 걸립니다.\")"
      ],
      "metadata": {
        "colab": {
          "base_uri": "https://localhost:8080/"
        },
        "id": "5IN0pfGUcB3g",
        "outputId": "12d27c18-e409-4c56-ff7e-a8d060d72977"
      },
      "execution_count": 2,
      "outputs": [
        {
          "output_type": "stream",
          "name": "stdout",
          "text": [
            "11 년이 걸립니다.\n"
          ]
        }
      ]
    },
    {
      "cell_type": "markdown",
      "source": [
        "3. 다음 코드의 출력을 예상해보자. 각 단계에서 변수의 값을 예상해보자.\n",
        "%는 나머지를 계산하는 연산자이다. // 는 나눗셈에서 몫을 계산하는 것이다."
      ],
      "metadata": {
        "id": "w2veF7wuciLW"
      }
    },
    {
      "cell_type": "code",
      "source": [
        "n = 1234\n",
        "sum = 0\n",
        "while n > 0 :\n",
        "  digit = n % 10\n",
        "  sum = sum + digit\n",
        "  n = n // 10\n",
        "print(sum)"
      ],
      "metadata": {
        "colab": {
          "base_uri": "https://localhost:8080/"
        },
        "id": "L01FgnP7csC2",
        "outputId": "32de69db-71fe-4ffd-c0b1-ba3c67fd622c"
      },
      "execution_count": 3,
      "outputs": [
        {
          "output_type": "stream",
          "name": "stdout",
          "text": [
            "10\n"
          ]
        }
      ]
    },
    {
      "cell_type": "markdown",
      "source": [
        "4. 사용자에게 곱셈 퀴즈를 내고 답을 사용자로부터 받는 프로그램을 사용자가 올바른 답을 입력할 때까지 반복하게 수정하라.\n",
        "어떤 조건이 만족될 때까지 반복하는 것은 while 루프를 사용하는 것이다."
      ],
      "metadata": {
        "id": "2ROEbN3ec7s5"
      }
    },
    {
      "cell_type": "code",
      "source": [
        "ans = 0\n",
        "while ans != 3*9 :\n",
        "  ans = int(input(\"3 x 9는 ? \"))\n",
        "print(\"맞았습니다.\")"
      ],
      "metadata": {
        "colab": {
          "base_uri": "https://localhost:8080/"
        },
        "id": "xQbMyf5IdRxG",
        "outputId": "69b8e62e-425a-4d5f-e09e-35af4940f27e"
      },
      "execution_count": 5,
      "outputs": [
        {
          "output_type": "stream",
          "name": "stdout",
          "text": [
            "3 x 9는 ? 27\n",
            "맞았습니다.\n"
          ]
        }
      ]
    },
    {
      "cell_type": "markdown",
      "source": [
        "5. 사용자가 입력한 정수의 합을 계산하는 프로그램을 작성하라. 사용자가 0을 입력 하기전까지 정수를 계속하여 읽도록 하자. 무한루프를 작성하고 사용자가 입력한 값이 0이면 break 문장을 실행하여 반복 루프를 종료한다. 무한루프는 while True : 이다"
      ],
      "metadata": {
        "id": "JvKPd1e2dm4i"
      }
    },
    {
      "cell_type": "code",
      "source": [
        "sum = 0\n",
        "while True:\n",
        "  x = int(input(\"정수를 입력하시오: \" ))\n",
        "  if x == 0:\n",
        "    break;\n",
        "  sum = sum + x\n",
        "print(\"합은 \", sum, \"입니다. \")"
      ],
      "metadata": {
        "colab": {
          "base_uri": "https://localhost:8080/"
        },
        "id": "Khd5CGD2d7Re",
        "outputId": "5b33c347-761d-47e3-c2a8-a5c5bb0b5e4f"
      },
      "execution_count": 7,
      "outputs": [
        {
          "output_type": "stream",
          "name": "stdout",
          "text": [
            "정수를 입력하시오: 3\n",
            "정수를 입력하시오: 5\n",
            "정수를 입력하시오: 4\n",
            "정수를 입력하시오: 6\n",
            "정수를 입력하시오: 5\n",
            "정수를 입력하시오: 4\n",
            "정수를 입력하시오: 3\n",
            "정수를 입력하시오: 0\n",
            "합은  30 입니다. \n"
          ]
        }
      ]
    },
    {
      "cell_type": "markdown",
      "source": [
        "6. 난수 생성 합수를 사용하여 2개의 주사위를 던졌을 때 나오는 수를 제공하는 화면과 같이 출력하여 본다. 1부터 6사이의 난수를 발생하려면 r = random.rndint(1, 6) 문장을 사용, 프로그램의 첫 부분이 import random문장 잊지 마세요."
      ],
      "metadata": {
        "id": "3BqXOTkpexE-"
      }
    },
    {
      "cell_type": "code",
      "source": [
        "from random import randint\n",
        "\n",
        "for i in range(3) :\n",
        "  d1 = randint(1, 6)\n",
        "  d2 = randint(1, 6)\n",
        "  print(\"첫번째 주사위=\", d1, \"두번째 주사위=\", d2)"
      ],
      "metadata": {
        "colab": {
          "base_uri": "https://localhost:8080/"
        },
        "id": "MLTr__KhfdmX",
        "outputId": "056c8cce-15ad-430f-b81f-d5b211960caf"
      },
      "execution_count": 8,
      "outputs": [
        {
          "output_type": "stream",
          "name": "stdout",
          "text": [
            "첫번째 주사위= 3 두번째 주사위= 4\n",
            "첫번째 주사위= 5 두번째 주사위= 3\n",
            "첫번째 주사위= 5 두번째 주사위= 4\n"
          ]
        }
      ]
    },
    {
      "cell_type": "markdown",
      "source": [
        "7. 여러분들에게 제공하는 연습문제를 확인하시기 바랍니다.\n",
        "터틀 그래픽과 반복을 사용하여 눈 모양을 그려본다."
      ],
      "metadata": {
        "id": "ckh1ozX_gIYO"
      }
    },
    {
      "cell_type": "code",
      "source": [
        "import turtle\n",
        "t = turtle.Turtle()\n",
        "t.shape(\"turtle\")\n",
        "t.lt(90)\n",
        "\n",
        "for i in range(1,7) :\n",
        "  t.fd(100)\n",
        "  t.fd(-30)\n",
        "  t.lt(60)\n",
        "  t.fd(60)\n",
        "  t.fd(30)\n",
        "\n",
        "  t.lt(60)\n",
        "  t.fd(-70)\n",
        "  t.left(60)\n",
        "  t._streen.exitonclick()\n",
        "# 하나의 패턴을 그리는 코드는 아래와 같아.\n",
        "# t.fd(100); t.fd(-30); t.fd(30), t.lt(60); t.lt(30); t.fd(-30) 참고하시면 됩니다."
      ],
      "metadata": {
        "colab": {
          "base_uri": "https://localhost:8080/",
          "height": 400
        },
        "id": "q2lzTmNpga73",
        "outputId": "7ecb01c2-1097-4d84-f3b8-a0b3e02efa2b"
      },
      "execution_count": 11,
      "outputs": [
        {
          "output_type": "error",
          "ename": "TclError",
          "evalue": "ignored",
          "traceback": [
            "\u001b[0;31m---------------------------------------------------------------------------\u001b[0m",
            "\u001b[0;31mTclError\u001b[0m                                  Traceback (most recent call last)",
            "\u001b[0;32m<ipython-input-11-dcdeff830f71>\u001b[0m in \u001b[0;36m<module>\u001b[0;34m()\u001b[0m\n\u001b[1;32m      1\u001b[0m \u001b[0;32mimport\u001b[0m \u001b[0mturtle\u001b[0m\u001b[0;34m\u001b[0m\u001b[0;34m\u001b[0m\u001b[0m\n\u001b[0;32m----> 2\u001b[0;31m \u001b[0mt\u001b[0m \u001b[0;34m=\u001b[0m \u001b[0mturtle\u001b[0m\u001b[0;34m.\u001b[0m\u001b[0mTurtle\u001b[0m\u001b[0;34m(\u001b[0m\u001b[0;34m)\u001b[0m\u001b[0;34m\u001b[0m\u001b[0;34m\u001b[0m\u001b[0m\n\u001b[0m\u001b[1;32m      3\u001b[0m \u001b[0mt\u001b[0m\u001b[0;34m.\u001b[0m\u001b[0mshape\u001b[0m\u001b[0;34m(\u001b[0m\u001b[0;34m\"turtle\"\u001b[0m\u001b[0;34m)\u001b[0m\u001b[0;34m\u001b[0m\u001b[0;34m\u001b[0m\u001b[0m\n\u001b[1;32m      4\u001b[0m \u001b[0mt\u001b[0m\u001b[0;34m.\u001b[0m\u001b[0mlt\u001b[0m\u001b[0;34m(\u001b[0m\u001b[0;36m90\u001b[0m\u001b[0;34m)\u001b[0m\u001b[0;34m\u001b[0m\u001b[0;34m\u001b[0m\u001b[0m\n\u001b[1;32m      5\u001b[0m \u001b[0;34m\u001b[0m\u001b[0m\n",
            "\u001b[0;32m/usr/lib/python3.7/turtle.py\u001b[0m in \u001b[0;36m__init__\u001b[0;34m(self, shape, undobuffersize, visible)\u001b[0m\n\u001b[1;32m   3810\u001b[0m                  visible=_CFG[\"visible\"]):\n\u001b[1;32m   3811\u001b[0m         \u001b[0;32mif\u001b[0m \u001b[0mTurtle\u001b[0m\u001b[0;34m.\u001b[0m\u001b[0m_screen\u001b[0m \u001b[0;32mis\u001b[0m \u001b[0;32mNone\u001b[0m\u001b[0;34m:\u001b[0m\u001b[0;34m\u001b[0m\u001b[0;34m\u001b[0m\u001b[0m\n\u001b[0;32m-> 3812\u001b[0;31m             \u001b[0mTurtle\u001b[0m\u001b[0;34m.\u001b[0m\u001b[0m_screen\u001b[0m \u001b[0;34m=\u001b[0m \u001b[0mScreen\u001b[0m\u001b[0;34m(\u001b[0m\u001b[0;34m)\u001b[0m\u001b[0;34m\u001b[0m\u001b[0;34m\u001b[0m\u001b[0m\n\u001b[0m\u001b[1;32m   3813\u001b[0m         RawTurtle.__init__(self, Turtle._screen,\n\u001b[1;32m   3814\u001b[0m                            \u001b[0mshape\u001b[0m\u001b[0;34m=\u001b[0m\u001b[0mshape\u001b[0m\u001b[0;34m,\u001b[0m\u001b[0;34m\u001b[0m\u001b[0;34m\u001b[0m\u001b[0m\n",
            "\u001b[0;32m/usr/lib/python3.7/turtle.py\u001b[0m in \u001b[0;36mScreen\u001b[0;34m()\u001b[0m\n\u001b[1;32m   3660\u001b[0m     else return the existing one.\"\"\"\n\u001b[1;32m   3661\u001b[0m     \u001b[0;32mif\u001b[0m \u001b[0mTurtle\u001b[0m\u001b[0;34m.\u001b[0m\u001b[0m_screen\u001b[0m \u001b[0;32mis\u001b[0m \u001b[0;32mNone\u001b[0m\u001b[0;34m:\u001b[0m\u001b[0;34m\u001b[0m\u001b[0;34m\u001b[0m\u001b[0m\n\u001b[0;32m-> 3662\u001b[0;31m         \u001b[0mTurtle\u001b[0m\u001b[0;34m.\u001b[0m\u001b[0m_screen\u001b[0m \u001b[0;34m=\u001b[0m \u001b[0m_Screen\u001b[0m\u001b[0;34m(\u001b[0m\u001b[0;34m)\u001b[0m\u001b[0;34m\u001b[0m\u001b[0;34m\u001b[0m\u001b[0m\n\u001b[0m\u001b[1;32m   3663\u001b[0m     \u001b[0;32mreturn\u001b[0m \u001b[0mTurtle\u001b[0m\u001b[0;34m.\u001b[0m\u001b[0m_screen\u001b[0m\u001b[0;34m\u001b[0m\u001b[0;34m\u001b[0m\u001b[0m\n\u001b[1;32m   3664\u001b[0m \u001b[0;34m\u001b[0m\u001b[0m\n",
            "\u001b[0;32m/usr/lib/python3.7/turtle.py\u001b[0m in \u001b[0;36m__init__\u001b[0;34m(self)\u001b[0m\n\u001b[1;32m   3676\u001b[0m         \u001b[0;31m# preserved (perhaps by passing it as an optional parameter)\u001b[0m\u001b[0;34m\u001b[0m\u001b[0;34m\u001b[0m\u001b[0;34m\u001b[0m\u001b[0m\n\u001b[1;32m   3677\u001b[0m         \u001b[0;32mif\u001b[0m \u001b[0m_Screen\u001b[0m\u001b[0;34m.\u001b[0m\u001b[0m_root\u001b[0m \u001b[0;32mis\u001b[0m \u001b[0;32mNone\u001b[0m\u001b[0;34m:\u001b[0m\u001b[0;34m\u001b[0m\u001b[0;34m\u001b[0m\u001b[0m\n\u001b[0;32m-> 3678\u001b[0;31m             \u001b[0m_Screen\u001b[0m\u001b[0;34m.\u001b[0m\u001b[0m_root\u001b[0m \u001b[0;34m=\u001b[0m \u001b[0mself\u001b[0m\u001b[0;34m.\u001b[0m\u001b[0m_root\u001b[0m \u001b[0;34m=\u001b[0m \u001b[0m_Root\u001b[0m\u001b[0;34m(\u001b[0m\u001b[0;34m)\u001b[0m\u001b[0;34m\u001b[0m\u001b[0;34m\u001b[0m\u001b[0m\n\u001b[0m\u001b[1;32m   3679\u001b[0m             \u001b[0mself\u001b[0m\u001b[0;34m.\u001b[0m\u001b[0m_root\u001b[0m\u001b[0;34m.\u001b[0m\u001b[0mtitle\u001b[0m\u001b[0;34m(\u001b[0m\u001b[0m_Screen\u001b[0m\u001b[0;34m.\u001b[0m\u001b[0m_title\u001b[0m\u001b[0;34m)\u001b[0m\u001b[0;34m\u001b[0m\u001b[0;34m\u001b[0m\u001b[0m\n\u001b[1;32m   3680\u001b[0m             \u001b[0mself\u001b[0m\u001b[0;34m.\u001b[0m\u001b[0m_root\u001b[0m\u001b[0;34m.\u001b[0m\u001b[0mondestroy\u001b[0m\u001b[0;34m(\u001b[0m\u001b[0mself\u001b[0m\u001b[0;34m.\u001b[0m\u001b[0m_destroy\u001b[0m\u001b[0;34m)\u001b[0m\u001b[0;34m\u001b[0m\u001b[0;34m\u001b[0m\u001b[0m\n",
            "\u001b[0;32m/usr/lib/python3.7/turtle.py\u001b[0m in \u001b[0;36m__init__\u001b[0;34m(self)\u001b[0m\n\u001b[1;32m    432\u001b[0m     \u001b[0;34m\"\"\"Root class for Screen based on Tkinter.\"\"\"\u001b[0m\u001b[0;34m\u001b[0m\u001b[0;34m\u001b[0m\u001b[0m\n\u001b[1;32m    433\u001b[0m     \u001b[0;32mdef\u001b[0m \u001b[0m__init__\u001b[0m\u001b[0;34m(\u001b[0m\u001b[0mself\u001b[0m\u001b[0;34m)\u001b[0m\u001b[0;34m:\u001b[0m\u001b[0;34m\u001b[0m\u001b[0;34m\u001b[0m\u001b[0m\n\u001b[0;32m--> 434\u001b[0;31m         \u001b[0mTK\u001b[0m\u001b[0;34m.\u001b[0m\u001b[0mTk\u001b[0m\u001b[0;34m.\u001b[0m\u001b[0m__init__\u001b[0m\u001b[0;34m(\u001b[0m\u001b[0mself\u001b[0m\u001b[0;34m)\u001b[0m\u001b[0;34m\u001b[0m\u001b[0;34m\u001b[0m\u001b[0m\n\u001b[0m\u001b[1;32m    435\u001b[0m \u001b[0;34m\u001b[0m\u001b[0m\n\u001b[1;32m    436\u001b[0m     \u001b[0;32mdef\u001b[0m \u001b[0msetupcanvas\u001b[0m\u001b[0;34m(\u001b[0m\u001b[0mself\u001b[0m\u001b[0;34m,\u001b[0m \u001b[0mwidth\u001b[0m\u001b[0;34m,\u001b[0m \u001b[0mheight\u001b[0m\u001b[0;34m,\u001b[0m \u001b[0mcwidth\u001b[0m\u001b[0;34m,\u001b[0m \u001b[0mcheight\u001b[0m\u001b[0;34m)\u001b[0m\u001b[0;34m:\u001b[0m\u001b[0;34m\u001b[0m\u001b[0;34m\u001b[0m\u001b[0m\n",
            "\u001b[0;32m/usr/lib/python3.7/tkinter/__init__.py\u001b[0m in \u001b[0;36m__init__\u001b[0;34m(self, screenName, baseName, className, useTk, sync, use)\u001b[0m\n\u001b[1;32m   2021\u001b[0m                 \u001b[0mbaseName\u001b[0m \u001b[0;34m=\u001b[0m \u001b[0mbaseName\u001b[0m \u001b[0;34m+\u001b[0m \u001b[0mext\u001b[0m\u001b[0;34m\u001b[0m\u001b[0;34m\u001b[0m\u001b[0m\n\u001b[1;32m   2022\u001b[0m         \u001b[0minteractive\u001b[0m \u001b[0;34m=\u001b[0m \u001b[0;36m0\u001b[0m\u001b[0;34m\u001b[0m\u001b[0;34m\u001b[0m\u001b[0m\n\u001b[0;32m-> 2023\u001b[0;31m         \u001b[0mself\u001b[0m\u001b[0;34m.\u001b[0m\u001b[0mtk\u001b[0m \u001b[0;34m=\u001b[0m \u001b[0m_tkinter\u001b[0m\u001b[0;34m.\u001b[0m\u001b[0mcreate\u001b[0m\u001b[0;34m(\u001b[0m\u001b[0mscreenName\u001b[0m\u001b[0;34m,\u001b[0m \u001b[0mbaseName\u001b[0m\u001b[0;34m,\u001b[0m \u001b[0mclassName\u001b[0m\u001b[0;34m,\u001b[0m \u001b[0minteractive\u001b[0m\u001b[0;34m,\u001b[0m \u001b[0mwantobjects\u001b[0m\u001b[0;34m,\u001b[0m \u001b[0museTk\u001b[0m\u001b[0;34m,\u001b[0m \u001b[0msync\u001b[0m\u001b[0;34m,\u001b[0m \u001b[0muse\u001b[0m\u001b[0;34m)\u001b[0m\u001b[0;34m\u001b[0m\u001b[0;34m\u001b[0m\u001b[0m\n\u001b[0m\u001b[1;32m   2024\u001b[0m         \u001b[0;32mif\u001b[0m \u001b[0museTk\u001b[0m\u001b[0;34m:\u001b[0m\u001b[0;34m\u001b[0m\u001b[0;34m\u001b[0m\u001b[0m\n\u001b[1;32m   2025\u001b[0m             \u001b[0mself\u001b[0m\u001b[0;34m.\u001b[0m\u001b[0m_loadtk\u001b[0m\u001b[0;34m(\u001b[0m\u001b[0;34m)\u001b[0m\u001b[0;34m\u001b[0m\u001b[0;34m\u001b[0m\u001b[0m\n",
            "\u001b[0;31mTclError\u001b[0m: no display name and no $DISPLAY environment variable"
          ]
        }
      ]
    },
    {
      "cell_type": "markdown",
      "source": [
        "파이썬에서 문장의 끝에 ; 표시를 하면 한 줄에 여러개의 문장을 입력할 수 있다.\n",
        "\n",
        "8. 터틀그래픽으로 별을 그려보았을 것이다. 아래의 코드를 응요하여 10개의 별을 그리는 프로그램을 코딩하라.\n",
        "별들은 시작 각도가 약간씩 다르다.\n",
        "별을 그리는 코드를 반복한다. 하나의 별을 그리는 반복이 끝나면 left(10)을 실행한다."
      ],
      "metadata": {
        "id": "zG71K2tXjqQu"
      }
    },
    {
      "cell_type": "code",
      "source": [
        "import turtle\n",
        "\n",
        "myPen = turtle.Turtle()\n",
        "myPen.speed(0)\n",
        "myPen.color(\"#ff0000\")\n",
        "\n",
        "for j in range(1, 10):\n",
        "  for i in range(1,6):\n",
        "    myPen.left(144)\n",
        "    myPen.forward(200)\n",
        "  myPen.left(10)\n",
        "\n",
        "myPen._screen.exitonclick()"
      ],
      "metadata": {
        "id": "yKz4MmyXjpp1"
      },
      "execution_count": 11,
      "outputs": []
    },
    {
      "cell_type": "markdown",
      "source": [
        "9. 반복과 난수를 함께 사용하면 화면에 랜덤한 원을 그릴 수 있다. 화면에 10개의 랜덤한 원을 그리는 프로그램을 작성하라. 원의 중심과 반지름이 모두 난수이어야 한다. 참고: 1부터 100사이의 난수를 발생하려면 r = random.randint(1,100)을 사용하면 되지요! 첫부분에 randdom도 import 해야 하고요. 원의 중심, 원의 반지름을 모두 난수로 설정합니다."
      ],
      "metadata": {
        "id": "kGLsilbWk3WT"
      }
    },
    {
      "cell_type": "code",
      "source": [
        "import turtle\n",
        "import random\n",
        "\n",
        "t = turtle.Turtle()\n",
        "t.shape(\"turtle\")\n",
        "\n",
        "for j in range (1, 10) :\n",
        "  t.up()\n",
        "  x = random.randint(-200, 200)\n",
        "  y = random.randint(-200, 200)\n",
        "  r = random.randint(10, 200)\n",
        "  t.goto(x, y)\n",
        "  t.down()\n",
        "  t.circle(r)\n",
        "t._screen.exitonclick()\n",
        "# 다음 화면에 이어서 10. 11. 12.를 작성하도록 하겠습니다. 수고하셨습니다."
      ],
      "metadata": {
        "id": "6INBFEb4lYHJ"
      },
      "execution_count": null,
      "outputs": []
    },
    {
      "cell_type": "code",
      "source": [
        ""
      ],
      "metadata": {
        "id": "TZJHU8hfi1NV"
      },
      "execution_count": null,
      "outputs": []
    }
  ]
}